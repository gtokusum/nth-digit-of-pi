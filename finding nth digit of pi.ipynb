{
 "cells": [
  {
   "cell_type": "code",
   "execution_count": 29,
   "metadata": {},
   "outputs": [
    {
     "name": "stdout",
     "output_type": "stream",
     "text": [
      "enter a number: a\n",
      "please enter a number: \n",
      "enter a number: a\n",
      "please enter a number: \n",
      "enter a number: a\n",
      "please enter a number: \n",
      "enter a number: 3\n",
      "3.142\n"
     ]
    }
   ],
   "source": [
    "from mpmath import mp   \n",
    "#importing pi and decimal counter\n",
    "def nthdigit():\n",
    "    \n",
    "    while True:\n",
    "    \n",
    "    #while loop to get integer from input \n",
    "    \n",
    "        try:\n",
    "            x = int(input(\"enter a number: \"))\n",
    "        \n",
    "        except:\n",
    "        \n",
    "        #assuring integer is inputed\n",
    "        \n",
    "            print(\"please enter a number: \")\n",
    "            continue\n",
    "        \n",
    "        else:\n",
    "        #printing pi to inputed digit\n",
    "            mp.dps=x+1\n",
    "            #adding one to account for decimal point\n",
    "            print(mp.pi)\n",
    "            break\n",
    "if __name__ == \"__main__\":\n",
    "    nthdigit()"
   ]
  },
  {
   "cell_type": "code",
   "execution_count": null,
   "metadata": {},
   "outputs": [],
   "source": []
  },
  {
   "cell_type": "code",
   "execution_count": 20,
   "metadata": {},
   "outputs": [],
   "source": []
  },
  {
   "cell_type": "code",
   "execution_count": null,
   "metadata": {},
   "outputs": [],
   "source": []
  }
 ],
 "metadata": {
  "kernelspec": {
   "display_name": "Python 3",
   "language": "python",
   "name": "python3"
  },
  "language_info": {
   "codemirror_mode": {
    "name": "ipython",
    "version": 3
   },
   "file_extension": ".py",
   "mimetype": "text/x-python",
   "name": "python",
   "nbconvert_exporter": "python",
   "pygments_lexer": "ipython3",
   "version": "3.7.4"
  }
 },
 "nbformat": 4,
 "nbformat_minor": 2
}
